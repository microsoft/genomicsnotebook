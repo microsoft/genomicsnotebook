{
 "cells": [
  {
   "cell_type": "markdown",
   "id": "e1c6b305",
   "metadata": {},
   "source": [
    "# NVIDIA Clara Parabricks on Microsoft Azure "
   ]
  },
  {
   "cell_type": "markdown",
   "id": "b8d187d0",
   "metadata": {},
   "source": [
    "NVIDIA introduced the Clara Parabricks software suite for performing analysis of NGS DNA and RNA data. It delivers results at blazing fast speeds and low cost. Clara Parabricks can analyze 30x WGS data in under 25 minutes on a single 8-GPU server, instead of 30 hours for traditional CPU-based methods. Its output matches commonly used software, making it simple to verify the accuracy of the results.\n",
    "\n",
    "Clara Parabricks software provides at least an order of magnitude acceleration in compute time while generating identical outputs and reducing analysis costs. Clara Parabricks is available free on NVIDIA GPU Cloud (NGC) and can be easily deployed on Azure GPU based virtual machines (VM).\n",
    "\n",
    "Clara Parabricks provides optimal performance for multiple Microsoft Azure instance types and can be used out of the box for essential bioinformatics needs. Currently, the Clara Parabricks accelerated analysis tools start from FASTQ files and perform alignment through variant calling and expression analysis, including QC tools for both types of outputs. The suite of tools can be used to support end-to-end workflows for germline, somatic and RNA-Seq pipelines, providing the flexibility to meet the individual needs of most projects. The tools can also be used individually, as drop-in replacements for steps in existing workflows.\n",
    "\n",
    "You can learn more from this [link](https://www.nvidia.com/en-us/clara/genomics)\n",
    "\n",
    "\n"
   ]
  },
  {
   "cell_type": "markdown",
   "id": "0a8d8c86-63a2-4d32-9d47-94ba5feca6a9",
   "metadata": {},
   "source": [
    "## The pre-requisites for running Parabricks 4.0 on Microsoft Azure\n",
    "\n",
    "- An Azure subscription with Compute-VM (cores-vCPUs) quota allowing to create GPU based VMs (preferably NCas_T4_v3 and ND96asr_A100_v4)\n",
    "- An NVIDIA driver greater than version 465.32.*\n",
    "- Any Linux Operating System that supports nvidia-docker2 Docker version 20.10 (or higher)"
   ]
  },
  {
   "cell_type": "markdown",
   "id": "925f3733-f1dc-4d97-b6b3-81657a7d187e",
   "metadata": {},
   "source": [
    "To make sure you have **nvidia-docker2** installed, run this command:"
   ]
  },
  {
   "cell_type": "code",
   "execution_count": null,
   "id": "292aabf6",
   "metadata": {},
   "outputs": [],
   "source": [
    "!docker run --rm --gpus all nvidia/cuda:11.0-base nvidia-smi"
   ]
  },
  {
   "cell_type": "markdown",
   "id": "6a2261d9-f066-4871-bb46-d5d77a569f68",
   "metadata": {},
   "source": [
    "When it finishes downloading the container, it will run the nvidia-smi command and show you the same output as above. The Clara Parabricks Docker image can be obtained from NGC by running the following command (please check https://catalog.ngc.nvidia.com/orgs/nvidia/teams/clara/containers/clara-parabricks for the latest version):"
   ]
  },
  {
   "cell_type": "code",
   "execution_count": null,
   "id": "55cec0c5-8c65-464f-b9a5-68ad5f7e08b8",
   "metadata": {},
   "outputs": [],
   "source": [
    "!docker pull nvcr.io/nvidia/clara/clara-parabricks:4.0.0-1"
   ]
  },
  {
   "cell_type": "markdown",
   "id": "05d39fca",
   "metadata": {},
   "source": [
    "## Sample Run- 'fq2bam' pipeline with Clara Parabricks"
   ]
  },
  {
   "cell_type": "code",
   "execution_count": null,
   "id": "b6944461-48a5-4a88-8c2d-f58ed7d39b0d",
   "metadata": {},
   "outputs": [],
   "source": [
    "! docker run \\\n",
    "\t--gpus all \\\n",
    "\t--rm \\\n",
    "\t--volume /host/data:/input_data \\\n",
    "\t--volume /host/results:/outputdir \\\n",
    "\t--workdir /image/input_data \\\n",
    "    nvcr.io/nvidia/clara/clara-parabricks:4.0.0-1 \\\n",
    "\tpbrun fq2bam \\\n",
    "\t--ref /input_data/Homo_sapiens_assembly38.fasta \\\n",
    "\t--in-fq /input_data/fastq1.gz /input_data/fastq2.gz \\\n",
    "\t--out-bam /image/outputdir/fq2bam_output.bam"
   ]
  },
  {
   "cell_type": "markdown",
   "id": "2b35c098",
   "metadata": {},
   "source": [
    "### Download reference file"
   ]
  },
  {
   "cell_type": "code",
   "execution_count": null,
   "id": "1656a223",
   "metadata": {},
   "outputs": [],
   "source": [
    "! wget -O parabricks_sample.tar.gz https://datasettoaexample.blob.core.windows.net/publicsample/parabricks_sample.tar.gz"
   ]
  },
  {
   "cell_type": "code",
   "execution_count": null,
   "id": "57112760-18e7-4e1e-8dbb-679bf79bc1ef",
   "metadata": {},
   "outputs": [],
   "source": [
    "! tar xzvf parabricks_sample.tar.gz"
   ]
  },
  {
   "cell_type": "markdown",
   "id": "87cd5849",
   "metadata": {},
   "source": [
    "### Download Sample fastq paired-end data"
   ]
  },
  {
   "cell_type": "code",
   "execution_count": null,
   "id": "3b6637be",
   "metadata": {},
   "outputs": [],
   "source": [
    "!wget https://datasettoaexample.blob.core.windows.net/publicsample/HG001.novaseq.pcr-free.30x.R1.fastq.gz"
   ]
  },
  {
   "cell_type": "code",
   "execution_count": null,
   "id": "39a66009",
   "metadata": {},
   "outputs": [],
   "source": [
    "!wget https://datasettoaexample.blob.core.windows.net/publicsample/HG001.novaseq.pcr-free.30x.R2.fastq.gz"
   ]
  },
  {
   "cell_type": "markdown",
   "id": "2d49f917",
   "metadata": {},
   "source": [
    "### `fq2bam` pipeline submission to Clara Parabricks "
   ]
  },
  {
   "cell_type": "code",
   "execution_count": null,
   "id": "5910faeb",
   "metadata": {},
   "outputs": [],
   "source": [
    "! sudo time -v docker run --gpus all -v /data:/parabricks nvcr.io/nvidia/clara/clara-parabricks:4.0.0-1 pbrun germline \\\n",
    "--ref /parabricks/parabricks_sample/Ref/Homo_sapiens_assembly38.fasta \\\n",
    "--in-fq /parabricks/HG002-NA24385-pFDA_S2_L002_R1_001-30x.fastq.gz /parabricks/HG002-NA24385-pFDA_S2_L002_R2_001-30x.fastq.gz \\\n",
    "--knownSites /parabricks/parabricks_sample/Ref/Homo_sapiens_assembly38.known_indels.vcf.gz --out-bam /parabricks/output.bam \\\n",
    "--out-variants /parabricks/output.vcf \\\n",
    "--out-recal-file /parabricks/report.txt \\\n",
    "--run-partition --no-alt-contigs |& tee germline_30x_4gpu.txt."
   ]
  },
  {
   "cell_type": "markdown",
   "id": "821e29b1",
   "metadata": {},
   "source": [
    "### Notices\n",
    "\n",
    "Third party software notices from [NVIDIA CLARA PARABRICKS](https://docs.nvidia.com/clara/parabricks/v3.5/text/software_notices.html)\n",
    "\n",
    "THE NOTEBOOK THIS PROJECT JUST PROVIDES A SAMPLE CODES FOR EDUCATIONAL PURPOSES. MICROSOFT DOES NOT CLAIM ANY OWNERSHIP ON THESE CODES AND LIBRARIES. MICROSOFT PROVIDES THIS NOTEBOOK AND SAMPLE USE OF NVIDIA Clara™ Parabricks® codes ON AN “AS IS” BASIS. DATA OR ANY MATERIAL ON THIS NOTEBOOK. MICROSOFT MAKES NO WARRANTIES, EXPRESS OR IMPLIED, GUARANTEES OR CONDITIONS WITH RESPECT TO YOUR USE OF THIS NOTEBOOK. TO THE EXTENT PERMITTED UNDER YOUR LOCAL LAW, MICROSOFT DISCLAIMS ALL LIABILITY FOR ANY DAMAGES OR LOSSES, INCLUDING DIRECT, CONSEQUENTIAL, SPECIAL, INDIRECT, INCIDENTAL OR PUNITIVE, RESULTING FROM YOUR USE OF THIS NOTEBOOK.\n",
    "\n",
    "### Support\n",
    "\n",
    "For questions about this notebook: Please send an e-mail to genomics@microsoft.com\n",
    "\n",
    "For other questions about NVIDIA Clara Parabricks [Developer forum of NVIDIA Clara Parabricks](https://forums.developer.nvidia.com/c/healthcare/parabricks/290)"
   ]
  }
 ],
 "metadata": {
  "kernelspec": {
   "display_name": "Python [conda env:azureml_py38_PT_and_TF]",
   "language": "python",
   "name": "conda-env-azureml_py38_PT_and_TF-py"
  },
  "language_info": {
   "codemirror_mode": {
    "name": "ipython",
    "version": 3
   },
   "file_extension": ".py",
   "mimetype": "text/x-python",
   "name": "python",
   "nbconvert_exporter": "python",
   "pygments_lexer": "ipython3",
   "version": "3.8.5"
  }
 },
 "nbformat": 4,
 "nbformat_minor": 5
}
