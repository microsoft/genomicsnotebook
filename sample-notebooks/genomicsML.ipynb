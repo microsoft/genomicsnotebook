{
 "cells": [
  {
   "cell_type": "markdown",
   "metadata": {},
   "source": [
    "# Train Machine Learning Models with Genomics + Clinical Data "
   ]
  },
  {
   "cell_type": "markdown",
   "metadata": {},
   "source": [
    "In this sample notebook, we combined the genomics data from 1000 Genome project and simulated clinical data for training of two predictive machine learning models WITH PUBLIC libraries. We focused to explore the phenotype prediction and association finding models with this combined dataset. \n",
    "We split the input training data into training and test datasets. After training the models on the training dataset, we demonstrated the results and performance of the models on the test in the last section (\"Data Visualization\").  \n",
    "We take multi-sample VCF files for genomic data and TAB-delimited TXT files for clinical data and phenotype data.\n",
    "There are a few major steps to this process:\n",
    "\n",
    "1) Genotype Filtering  \n",
    "\n",
    "2) Formatting filtered genotype data to be combined with the clinical data  \n",
    "\n",
    "3) Reading in the clinical data and phenotype data and combining with the genotype data  \n",
    "\n",
    "4) Train machine learning models  \n",
    "\n",
    "5) Visualizing results  \n",
    "\n",
    "### Dependencies:\n",
    "\n",
    "This notebook requires the following libraries:\n",
    "\n",
    "Azure CLI\n",
    "\n",
    "AzCopy: Please install latest release of the AzCopy: https://docs.microsoft.com/en-us/azure/storage/common/storage-use-azcopy-v10\n",
    "\n",
    "bcftools: Utilities for variant calling and manipulating VCFs and BCFs from https://samtools.github.io/bcftools/bcftools.html\n",
    "\n",
    "Genome Analysis Toolkit (GATK) (Users need to download GATK from Broad Institute's webpage into the same compute environment with this notebook: https://github.com/broadinstitute/gatk/releases)\n",
    "\n",
    "Users need to download the genomics data from that [link](ftp://ftp.1000genomes.ebi.ac.uk/vol1/ftp/release/20130502/ALL.chr22.phase3_shapeit2_mvncall_integrated_v5a.20130502.genotypes.vcf.gz) and simulated phenotypic datasets from that [link](https://datasettoaexample.blob.core.windows.net/publicsample/simulated_phenotypic.zip)\n",
    "\n",
    "Important information: This notebook is using Python 3.6 kernel\n",
    "\n"
   ]
  },
  {
   "cell_type": "markdown",
   "metadata": {},
   "source": [
    "### Genotype Filtering"
   ]
  },
  {
   "cell_type": "markdown",
   "metadata": {},
   "source": [
    "First we index the variants recorded in the VCF file:"
   ]
  },
  {
   "cell_type": "code",
   "execution_count": null,
   "metadata": {},
   "outputs": [],
   "source": [
    "!./gatk-4.1.7.0/gatk IndexFeatureFile -I ALL.chr22.phase3_shapeit2_mvncall_integrated_v5a.20130502.genotypes.vcf.gz"
   ]
  },
  {
   "cell_type": "markdown",
   "metadata": {},
   "source": [
    "Filter variants based on minor allele frequencies below 1%. Due to the low number of samples we have in this genotype data, going below (e.g. 1%) limit would make finding statistical associations more difficult:"
   ]
  },
  {
   "cell_type": "code",
   "execution_count": 2,
   "metadata": {},
   "outputs": [],
   "source": [
    "!bcftools view -q 0.1:minor ALL.chr22.phase3_shapeit2_mvncall_integrated_v5a.20130502.genotypes.vcf.gz -o chr22FMAF.vcf"
   ]
  },
  {
   "cell_type": "code",
   "execution_count": 3,
   "metadata": {},
   "outputs": [],
   "source": [
    "!bcftools query --print-header -f '%CHROM\\t%POS\\t%TYPE\\t%AF\\t%REF\\t%ALT[\\t%GT]\\n' chr22FMAF.vcf -o tableChr22FilteredMAF.tsv"
   ]
  },
  {
   "cell_type": "code",
   "execution_count": 27,
   "metadata": {},
   "outputs": [
    {
     "data": {
      "text/html": [
       "<div>\n",
       "<style scoped>\n",
       "    .dataframe tbody tr th:only-of-type {\n",
       "        vertical-align: middle;\n",
       "    }\n",
       "\n",
       "    .dataframe tbody tr th {\n",
       "        vertical-align: top;\n",
       "    }\n",
       "\n",
       "    .dataframe thead th {\n",
       "        text-align: right;\n",
       "    }\n",
       "</style>\n",
       "<table border=\"1\" class=\"dataframe\">\n",
       "  <thead>\n",
       "    <tr style=\"text-align: right;\">\n",
       "      <th></th>\n",
       "      <th># [1]CHROM</th>\n",
       "      <th>[2]POS</th>\n",
       "      <th>[3]TYPE</th>\n",
       "      <th>[4]AF</th>\n",
       "      <th>[5]REF</th>\n",
       "      <th>[6]ALT</th>\n",
       "      <th>[7]HG00096:GT</th>\n",
       "      <th>[8]HG00097:GT</th>\n",
       "      <th>[9]HG00099:GT</th>\n",
       "      <th>[10]HG00100:GT</th>\n",
       "      <th>...</th>\n",
       "      <th>[2501]NA21128:GT</th>\n",
       "      <th>[2502]NA21129:GT</th>\n",
       "      <th>[2503]NA21130:GT</th>\n",
       "      <th>[2504]NA21133:GT</th>\n",
       "      <th>[2505]NA21135:GT</th>\n",
       "      <th>[2506]NA21137:GT</th>\n",
       "      <th>[2507]NA21141:GT</th>\n",
       "      <th>[2508]NA21142:GT</th>\n",
       "      <th>[2509]NA21143:GT</th>\n",
       "      <th>[2510]NA21144:GT</th>\n",
       "    </tr>\n",
       "  </thead>\n",
       "  <tbody>\n",
       "    <tr>\n",
       "      <th>0</th>\n",
       "      <td>22</td>\n",
       "      <td>16051249</td>\n",
       "      <td>SNP</td>\n",
       "      <td>0.11242</td>\n",
       "      <td>T</td>\n",
       "      <td>C</td>\n",
       "      <td>0|0</td>\n",
       "      <td>1|0</td>\n",
       "      <td>1|0</td>\n",
       "      <td>0|0</td>\n",
       "      <td>...</td>\n",
       "      <td>1|0</td>\n",
       "      <td>0|1</td>\n",
       "      <td>1|1</td>\n",
       "      <td>0|0</td>\n",
       "      <td>1|0</td>\n",
       "      <td>0|0</td>\n",
       "      <td>1|0</td>\n",
       "      <td>0|1</td>\n",
       "      <td>1|1</td>\n",
       "      <td>0|0</td>\n",
       "    </tr>\n",
       "    <tr>\n",
       "      <th>1</th>\n",
       "      <td>22</td>\n",
       "      <td>16052080</td>\n",
       "      <td>SNP</td>\n",
       "      <td>0.141174</td>\n",
       "      <td>G</td>\n",
       "      <td>A</td>\n",
       "      <td>0|1</td>\n",
       "      <td>0|0</td>\n",
       "      <td>0|0</td>\n",
       "      <td>0|0</td>\n",
       "      <td>...</td>\n",
       "      <td>0|0</td>\n",
       "      <td>0|0</td>\n",
       "      <td>0|0</td>\n",
       "      <td>0|0</td>\n",
       "      <td>0|0</td>\n",
       "      <td>1|0</td>\n",
       "      <td>0|1</td>\n",
       "      <td>0|0</td>\n",
       "      <td>0|0</td>\n",
       "      <td>0|0</td>\n",
       "    </tr>\n",
       "    <tr>\n",
       "      <th>2</th>\n",
       "      <td>22</td>\n",
       "      <td>16052167</td>\n",
       "      <td>INDEL</td>\n",
       "      <td>0.472644</td>\n",
       "      <td>A</td>\n",
       "      <td>AAAAC</td>\n",
       "      <td>0|1</td>\n",
       "      <td>0|0</td>\n",
       "      <td>0|0</td>\n",
       "      <td>1|0</td>\n",
       "      <td>...</td>\n",
       "      <td>0|1</td>\n",
       "      <td>1|1</td>\n",
       "      <td>0|0</td>\n",
       "      <td>0|0</td>\n",
       "      <td>1|1</td>\n",
       "      <td>1|1</td>\n",
       "      <td>0|1</td>\n",
       "      <td>1|1</td>\n",
       "      <td>0|0</td>\n",
       "      <td>1|1</td>\n",
       "    </tr>\n",
       "    <tr>\n",
       "      <th>3</th>\n",
       "      <td>22</td>\n",
       "      <td>16053659</td>\n",
       "      <td>SNP</td>\n",
       "      <td>0.857628</td>\n",
       "      <td>A</td>\n",
       "      <td>C</td>\n",
       "      <td>1|0</td>\n",
       "      <td>1|0</td>\n",
       "      <td>1|0</td>\n",
       "      <td>1|1</td>\n",
       "      <td>...</td>\n",
       "      <td>1|1</td>\n",
       "      <td>1|1</td>\n",
       "      <td>1|1</td>\n",
       "      <td>0|0</td>\n",
       "      <td>1|1</td>\n",
       "      <td>1|1</td>\n",
       "      <td>1|1</td>\n",
       "      <td>1|1</td>\n",
       "      <td>1|1</td>\n",
       "      <td>1|1</td>\n",
       "    </tr>\n",
       "    <tr>\n",
       "      <th>4</th>\n",
       "      <td>22</td>\n",
       "      <td>16053791</td>\n",
       "      <td>SNP</td>\n",
       "      <td>0.165935</td>\n",
       "      <td>C</td>\n",
       "      <td>A</td>\n",
       "      <td>0|0</td>\n",
       "      <td>0|0</td>\n",
       "      <td>0|0</td>\n",
       "      <td>0|1</td>\n",
       "      <td>...</td>\n",
       "      <td>0|0</td>\n",
       "      <td>0|0</td>\n",
       "      <td>0|0</td>\n",
       "      <td>0|1</td>\n",
       "      <td>0|0</td>\n",
       "      <td>0|1</td>\n",
       "      <td>0|0</td>\n",
       "      <td>0|0</td>\n",
       "      <td>0|0</td>\n",
       "      <td>0|1</td>\n",
       "    </tr>\n",
       "  </tbody>\n",
       "</table>\n",
       "<p>5 rows × 2510 columns</p>\n",
       "</div>"
      ],
      "text/plain": [
       "   # [1]CHROM    [2]POS [3]TYPE     [4]AF [5]REF [6]ALT [7]HG00096:GT  \\\n",
       "0          22  16051249     SNP   0.11242      T      C           0|0   \n",
       "1          22  16052080     SNP  0.141174      G      A           0|1   \n",
       "2          22  16052167   INDEL  0.472644      A  AAAAC           0|1   \n",
       "3          22  16053659     SNP  0.857628      A      C           1|0   \n",
       "4          22  16053791     SNP  0.165935      C      A           0|0   \n",
       "\n",
       "  [8]HG00097:GT [9]HG00099:GT [10]HG00100:GT       ...         \\\n",
       "0           1|0           1|0            0|0       ...          \n",
       "1           0|0           0|0            0|0       ...          \n",
       "2           0|0           0|0            1|0       ...          \n",
       "3           1|0           1|0            1|1       ...          \n",
       "4           0|0           0|0            0|1       ...          \n",
       "\n",
       "  [2501]NA21128:GT [2502]NA21129:GT [2503]NA21130:GT [2504]NA21133:GT  \\\n",
       "0              1|0              0|1              1|1              0|0   \n",
       "1              0|0              0|0              0|0              0|0   \n",
       "2              0|1              1|1              0|0              0|0   \n",
       "3              1|1              1|1              1|1              0|0   \n",
       "4              0|0              0|0              0|0              0|1   \n",
       "\n",
       "  [2505]NA21135:GT [2506]NA21137:GT [2507]NA21141:GT [2508]NA21142:GT  \\\n",
       "0              1|0              0|0              1|0              0|1   \n",
       "1              0|0              1|0              0|1              0|0   \n",
       "2              1|1              1|1              0|1              1|1   \n",
       "3              1|1              1|1              1|1              1|1   \n",
       "4              0|0              0|1              0|0              0|0   \n",
       "\n",
       "  [2509]NA21143:GT [2510]NA21144:GT  \n",
       "0              1|1              0|0  \n",
       "1              0|0              0|0  \n",
       "2              0|0              1|1  \n",
       "3              1|1              1|1  \n",
       "4              0|0              0|1  \n",
       "\n",
       "[5 rows x 2510 columns]"
      ]
     },
     "execution_count": 27,
     "metadata": {},
     "output_type": "execute_result"
    }
   ],
   "source": [
    "import pandas as pd\n",
    "import sys\n",
    "import warnings\n",
    "warnings.simplefilter(\"ignore\")\n",
    "# Read the table created above into a pandas dataframe:\n",
    "DF=pd.read_csv(\"tableChr22FilteredMAF.tsv\", delimiter=\"\\t\")\n",
    "DF.head(5)"
   ]
  },
  {
   "cell_type": "markdown",
   "metadata": {},
   "source": [
    "We perform LD (linkage disequilibrium) pruning in order to get rid of variants that have high covariance. A good point to start is 0.6 r^2 with the default window size (which can be changed with the -w flag). For European populations, 0.2 is the most commonly used r^2 threshold (https://www.biostars.org/p/450661/)"
   ]
  },
  {
   "cell_type": "code",
   "execution_count": 5,
   "metadata": {},
   "outputs": [],
   "source": [
    "!./bcftools/bcftools +bcftools/plugins/prune.so -m 0.2 chr22FMAF.vcf -Ob -o chr22FLD.vcf"
   ]
  },
  {
   "cell_type": "markdown",
   "metadata": {},
   "source": [
    "**Optional:** Can filter based on read depth with the command below (cut-off 20 is used below but can be changed as desired):  \n",
    "`!bcftools view -i 'MIN(FMT/DP>20)' combined.286LDMAF.vcf`"
   ]
  },
  {
   "cell_type": "markdown",
   "metadata": {},
   "source": [
    "Upon MAF filtering and LD-pruning, we will turn the genotype data stored in vcf format into a table using bcftools:"
   ]
  },
  {
   "cell_type": "code",
   "execution_count": 6,
   "metadata": {},
   "outputs": [],
   "source": [
    "!bcftools query --print-header -f '%CHROM\\t%POS\\t%TYPE\\t%AF\\t%REF\\t%ALT[\\t%GT]\\n' chr22FLD.vcf -o tableChr22FilteredLD02.tsv"
   ]
  },
  {
   "cell_type": "markdown",
   "metadata": {},
   "source": [
    "We read the data into a pandas dataframe object in python. Filtering operations with pandas dataframe are much faster than filtering operations gatk carries out on vcf files (at least with the size of the data we currently use), so we will perform the rest of the filtering here:"
   ]
  },
  {
   "cell_type": "code",
   "execution_count": null,
   "metadata": {},
   "outputs": [],
   "source": [
    "import pandas as pd\n",
    "import sys\n",
    "import warnings\n",
    "warnings.simplefilter(\"ignore\")\n",
    "# Read the table created above into a pandas dataframe:\n",
    "DF=pd.read_csv(\"tableChr22FilteredLD02.tsv\", delimiter=\"\\t\")\n",
    "DF.head(5)"
   ]
  },
  {
   "cell_type": "markdown",
   "metadata": {},
   "source": [
    "Split into variant data frame and genotype dataframe, save variant data frame:"
   ]
  },
  {
   "cell_type": "code",
   "execution_count": 8,
   "metadata": {},
   "outputs": [],
   "source": [
    "DF=DF[~DF.eq(\"./.\").any(1)] #Drop variants with missingness\n",
    "DF=DF[~(DF[\"[6]ALT\"].str.len()>1)] # Filter out multi-allelic variants, only keep the bi-allelic ones\n",
    "DF=DF[DF[\"[3]TYPE\"]==\"SNP\"] # Only keep the SNPs (up to the researcher to set the types). Note: pandas filtering is a lot quicker than GATK.\n",
    "DF=DF.reset_index(drop=True) #Now that the number of variants (and rows) changed in the dataframe, refresh the indices\n",
    "\n",
    "variantDF=DF[['# [1]CHROM', '[2]POS', '[3]TYPE', '[4]AF', '[5]REF', '[6]ALT']]\n",
    "variantDF.columns=[\"CHROM\",\"POS\",\"TYPE\",\"AF\",\"REF\", \"ALT\"] #Rename the columns\n",
    "variantDF.to_csv(\"variantDFChr22.txt\", sep=\"\\t\") #Variant information saved to a file here\n",
    "genotypeDF=DF.drop(columns=['# [1]CHROM', '[2]POS', '[3]TYPE', '[4]AF', '[5]REF', '[6]ALT'])"
   ]
  },
  {
   "cell_type": "code",
   "execution_count": 29,
   "metadata": {},
   "outputs": [
    {
     "data": {
      "text/html": [
       "<div>\n",
       "<style scoped>\n",
       "    .dataframe tbody tr th:only-of-type {\n",
       "        vertical-align: middle;\n",
       "    }\n",
       "\n",
       "    .dataframe tbody tr th {\n",
       "        vertical-align: top;\n",
       "    }\n",
       "\n",
       "    .dataframe thead th {\n",
       "        text-align: right;\n",
       "    }\n",
       "</style>\n",
       "<table border=\"1\" class=\"dataframe\">\n",
       "  <thead>\n",
       "    <tr style=\"text-align: right;\">\n",
       "      <th></th>\n",
       "      <th>[7]HG00096:GT</th>\n",
       "      <th>[8]HG00097:GT</th>\n",
       "      <th>[9]HG00099:GT</th>\n",
       "      <th>[10]HG00100:GT</th>\n",
       "      <th>[11]HG00101:GT</th>\n",
       "      <th>[12]HG00102:GT</th>\n",
       "      <th>[13]HG00103:GT</th>\n",
       "      <th>[14]HG00105:GT</th>\n",
       "      <th>[15]HG00106:GT</th>\n",
       "      <th>[16]HG00107:GT</th>\n",
       "      <th>...</th>\n",
       "      <th>[2501]NA21128:GT</th>\n",
       "      <th>[2502]NA21129:GT</th>\n",
       "      <th>[2503]NA21130:GT</th>\n",
       "      <th>[2504]NA21133:GT</th>\n",
       "      <th>[2505]NA21135:GT</th>\n",
       "      <th>[2506]NA21137:GT</th>\n",
       "      <th>[2507]NA21141:GT</th>\n",
       "      <th>[2508]NA21142:GT</th>\n",
       "      <th>[2509]NA21143:GT</th>\n",
       "      <th>[2510]NA21144:GT</th>\n",
       "    </tr>\n",
       "  </thead>\n",
       "  <tbody>\n",
       "    <tr>\n",
       "      <th>0</th>\n",
       "      <td>0|0</td>\n",
       "      <td>1|0</td>\n",
       "      <td>1|0</td>\n",
       "      <td>0|0</td>\n",
       "      <td>0|0</td>\n",
       "      <td>1|0</td>\n",
       "      <td>0|0</td>\n",
       "      <td>0|0</td>\n",
       "      <td>0|1</td>\n",
       "      <td>0|0</td>\n",
       "      <td>...</td>\n",
       "      <td>1|0</td>\n",
       "      <td>0|1</td>\n",
       "      <td>1|1</td>\n",
       "      <td>0|0</td>\n",
       "      <td>1|0</td>\n",
       "      <td>0|0</td>\n",
       "      <td>1|0</td>\n",
       "      <td>0|1</td>\n",
       "      <td>1|1</td>\n",
       "      <td>0|0</td>\n",
       "    </tr>\n",
       "    <tr>\n",
       "      <th>1</th>\n",
       "      <td>0|1</td>\n",
       "      <td>0|0</td>\n",
       "      <td>0|0</td>\n",
       "      <td>0|0</td>\n",
       "      <td>0|0</td>\n",
       "      <td>0|0</td>\n",
       "      <td>1|0</td>\n",
       "      <td>0|0</td>\n",
       "      <td>0|0</td>\n",
       "      <td>1|0</td>\n",
       "      <td>...</td>\n",
       "      <td>0|0</td>\n",
       "      <td>0|0</td>\n",
       "      <td>0|0</td>\n",
       "      <td>0|0</td>\n",
       "      <td>0|0</td>\n",
       "      <td>1|0</td>\n",
       "      <td>0|1</td>\n",
       "      <td>0|0</td>\n",
       "      <td>0|0</td>\n",
       "      <td>0|0</td>\n",
       "    </tr>\n",
       "    <tr>\n",
       "      <th>2</th>\n",
       "      <td>1|0</td>\n",
       "      <td>1|0</td>\n",
       "      <td>1|0</td>\n",
       "      <td>1|1</td>\n",
       "      <td>1|1</td>\n",
       "      <td>1|0</td>\n",
       "      <td>0|1</td>\n",
       "      <td>0|1</td>\n",
       "      <td>1|1</td>\n",
       "      <td>1|1</td>\n",
       "      <td>...</td>\n",
       "      <td>1|1</td>\n",
       "      <td>1|1</td>\n",
       "      <td>1|1</td>\n",
       "      <td>0|0</td>\n",
       "      <td>1|1</td>\n",
       "      <td>1|1</td>\n",
       "      <td>1|1</td>\n",
       "      <td>1|1</td>\n",
       "      <td>1|1</td>\n",
       "      <td>1|1</td>\n",
       "    </tr>\n",
       "    <tr>\n",
       "      <th>3</th>\n",
       "      <td>0|0</td>\n",
       "      <td>0|0</td>\n",
       "      <td>0|0</td>\n",
       "      <td>0|1</td>\n",
       "      <td>0|1</td>\n",
       "      <td>0|0</td>\n",
       "      <td>0|0</td>\n",
       "      <td>0|0</td>\n",
       "      <td>0|0</td>\n",
       "      <td>0|1</td>\n",
       "      <td>...</td>\n",
       "      <td>0|0</td>\n",
       "      <td>0|0</td>\n",
       "      <td>0|0</td>\n",
       "      <td>0|1</td>\n",
       "      <td>0|0</td>\n",
       "      <td>0|1</td>\n",
       "      <td>0|0</td>\n",
       "      <td>0|0</td>\n",
       "      <td>0|0</td>\n",
       "      <td>0|1</td>\n",
       "    </tr>\n",
       "    <tr>\n",
       "      <th>4</th>\n",
       "      <td>0|0</td>\n",
       "      <td>0|0</td>\n",
       "      <td>0|0</td>\n",
       "      <td>1|0</td>\n",
       "      <td>1|0</td>\n",
       "      <td>0|0</td>\n",
       "      <td>0|1</td>\n",
       "      <td>0|1</td>\n",
       "      <td>0|0</td>\n",
       "      <td>1|0</td>\n",
       "      <td>...</td>\n",
       "      <td>0|0</td>\n",
       "      <td>1|0</td>\n",
       "      <td>0|0</td>\n",
       "      <td>0|0</td>\n",
       "      <td>0|0</td>\n",
       "      <td>0|1</td>\n",
       "      <td>0|0</td>\n",
       "      <td>1|0</td>\n",
       "      <td>0|0</td>\n",
       "      <td>0|1</td>\n",
       "    </tr>\n",
       "  </tbody>\n",
       "</table>\n",
       "<p>5 rows × 2504 columns</p>\n",
       "</div>"
      ],
      "text/plain": [
       "  [7]HG00096:GT [8]HG00097:GT [9]HG00099:GT [10]HG00100:GT [11]HG00101:GT  \\\n",
       "0           0|0           1|0           1|0            0|0            0|0   \n",
       "1           0|1           0|0           0|0            0|0            0|0   \n",
       "2           1|0           1|0           1|0            1|1            1|1   \n",
       "3           0|0           0|0           0|0            0|1            0|1   \n",
       "4           0|0           0|0           0|0            1|0            1|0   \n",
       "\n",
       "  [12]HG00102:GT [13]HG00103:GT [14]HG00105:GT [15]HG00106:GT [16]HG00107:GT  \\\n",
       "0            1|0            0|0            0|0            0|1            0|0   \n",
       "1            0|0            1|0            0|0            0|0            1|0   \n",
       "2            1|0            0|1            0|1            1|1            1|1   \n",
       "3            0|0            0|0            0|0            0|0            0|1   \n",
       "4            0|0            0|1            0|1            0|0            1|0   \n",
       "\n",
       "        ...        [2501]NA21128:GT [2502]NA21129:GT [2503]NA21130:GT  \\\n",
       "0       ...                     1|0              0|1              1|1   \n",
       "1       ...                     0|0              0|0              0|0   \n",
       "2       ...                     1|1              1|1              1|1   \n",
       "3       ...                     0|0              0|0              0|0   \n",
       "4       ...                     0|0              1|0              0|0   \n",
       "\n",
       "  [2504]NA21133:GT [2505]NA21135:GT [2506]NA21137:GT [2507]NA21141:GT  \\\n",
       "0              0|0              1|0              0|0              1|0   \n",
       "1              0|0              0|0              1|0              0|1   \n",
       "2              0|0              1|1              1|1              1|1   \n",
       "3              0|1              0|0              0|1              0|0   \n",
       "4              0|0              0|0              0|1              0|0   \n",
       "\n",
       "  [2508]NA21142:GT [2509]NA21143:GT [2510]NA21144:GT  \n",
       "0              0|1              1|1              0|0  \n",
       "1              0|0              0|0              0|0  \n",
       "2              1|1              1|1              1|1  \n",
       "3              0|0              0|0              0|1  \n",
       "4              1|0              0|0              0|1  \n",
       "\n",
       "[5 rows x 2504 columns]"
      ]
     },
     "execution_count": 29,
     "metadata": {},
     "output_type": "execute_result"
    }
   ],
   "source": [
    "genotypeDF.head(5)"
   ]
  },
  {
   "cell_type": "markdown",
   "metadata": {},
   "source": [
    "Turn haplotype data into genotype data and turn genotype data into a matrix of shape (#individuals, #variants):"
   ]
  },
  {
   "cell_type": "markdown",
   "metadata": {},
   "source": [
    "### Reading in the Clinical Data"
   ]
  },
  {
   "cell_type": "code",
   "execution_count": 10,
   "metadata": {},
   "outputs": [
    {
     "name": "stdout",
     "output_type": "stream",
     "text": [
      "Shape of the clinical data matrix that we read from a TXT file:\n",
      "(2504, 10)\n"
     ]
    }
   ],
   "source": [
    "import numpy as np\n",
    "\n",
    "clinicalData=np.genfromtxt(\"clinicalData_chr22simu.txt\", delimiter=\"\\t\")\n",
    "print(\"Shape of the clinical data matrix that we read from a TXT file:\")\n",
    "print(clinicalData.shape)"
   ]
  },
  {
   "cell_type": "markdown",
   "metadata": {},
   "source": [
    "### Reading in the Phenotype Data:"
   ]
  },
  {
   "cell_type": "markdown",
   "metadata": {},
   "source": [
    "Define the parameters of the phenotype simulations- [download link](https://datasettoaexample.blob.core.windows.net/publicsample/simulated_phenotypic.zip):"
   ]
  },
  {
   "cell_type": "code",
   "execution_count": 11,
   "metadata": {},
   "outputs": [
    {
     "name": "stdout",
     "output_type": "stream",
     "text": [
      "Shape of the quantitative phenotype vector read from TXT file:\n",
      "(2504, 1)\n",
      "Shape of the discrete phenotype vector read from TXT file:\n",
      "(2504, 1)\n",
      "Number of ground-truth causal variants (saved during simulations, used for benchmarking later on):\n",
      "176\n"
     ]
    }
   ],
   "source": [
    "import numpy as np \n",
    "N=clinicalData.shape[0] #Total number of samples\n",
    "quantitativePheno=np.reshape(np.genfromtxt(\"quantPheno_clinicalgeno_chr22simu.txt\", delimiter=\"\\t\"),(N,1))\n",
    "discretePheno=np.reshape(np.genfromtxt(\"discretePheno_clinicalgeno_chr22simu.txt\", delimiter=\"\\t\"),(N,1))\n",
    "causals=np.genfromtxt(\"causals_clinicalgeno_chr22simu.txt\", delimiter=\"\\t\")\n",
    "\n",
    "print(\"Shape of the quantitative phenotype vector read from TXT file:\")\n",
    "print(quantitativePheno.shape)\n",
    "\n",
    "print(\"Shape of the discrete phenotype vector read from TXT file:\")\n",
    "print(discretePheno.shape)\n",
    "\n",
    "print(\"Number of ground-truth causal variants (saved during simulations, used for benchmarking later on):\")\n",
    "print(len(causals))"
   ]
  },
  {
   "cell_type": "markdown",
   "metadata": {},
   "source": [
    "### Splitting Dataset into Training and Testing Data:"
   ]
  },
  {
   "cell_type": "code",
   "execution_count": 12,
   "metadata": {},
   "outputs": [
    {
     "name": "stdout",
     "output_type": "stream",
     "text": [
      "Number of samples used for training:  2003\n",
      "Number of samples used for testing:  501\n"
     ]
    }
   ],
   "source": [
    "#Set what percent of data will be used in training:\n",
    "percent_training=0.80\n",
    "\n",
    "#Based on the parameter set above, determine the number of samples to be used in training:\n",
    "N=clinicalData.shape[0] #Total number of samples\n",
    "trainingN=int(N*percent_training)\n",
    "\n",
    "training_indices=np.arange(0, trainingN)\n",
    "testing_indices=np.arange(trainingN, N)\n",
    "\n",
    "\n",
    "genotypeMatrix=np.genfromtxt(\"genomicChr22.txt\", delimiter=\"\\t\")\n",
    "train_genomic=genotypeMatrix[training_indices,]\n",
    "test_genomic=genotypeMatrix[testing_indices,]\n",
    "\n",
    "train_clinical=clinicalData[training_indices,]\n",
    "test_clinical=clinicalData[testing_indices,]\n",
    "\n",
    "train_quantPheno=quantitativePheno[training_indices,]\n",
    "test_quantPheno=quantitativePheno[testing_indices,]\n",
    "\n",
    "train_discretePheno=discretePheno[training_indices,]\n",
    "test_discretePheno=discretePheno[testing_indices,]\n",
    "\n",
    "print(\"Number of samples used for training: \", trainingN)\n",
    "print(\"Number of samples used for testing: \", N-trainingN)\n",
    "\n",
    "################# Save training - test split of datasets #####################\n",
    "np.savetxt(\"genomicChr22_training.txt\",train_genomic, delimiter=\"\\t\")\n",
    "np.savetxt(\"genomicChr22_test.txt\",test_genomic, delimiter=\"\\t\")\n",
    "\n",
    "np.savetxt(\"clinicalChr22_training.txt\",train_clinical, delimiter=\"\\t\")\n",
    "np.savetxt(\"clinicalChr22_test.txt\",test_clinical, delimiter=\"\\t\")\n",
    "\n",
    "np.savetxt(\"quantPhenoChr22_training.txt\",train_quantPheno, delimiter=\"\\t\")\n",
    "np.savetxt(\"quantPhenoChr22_test.txt\",test_quantPheno, delimiter=\"\\t\")\n",
    "\n",
    "np.savetxt(\"discretePhenoChr22_training.txt\",train_discretePheno, delimiter=\"\\t\")\n",
    "np.savetxt(\"discretePhenoChr22_test.txt\",test_discretePheno, delimiter=\"\\t\")"
   ]
  },
  {
   "cell_type": "markdown",
   "metadata": {},
   "source": [
    "### Combine Genomic and Clinical Data (to be used as an input to ML Models):"
   ]
  },
  {
   "cell_type": "code",
   "execution_count": 13,
   "metadata": {},
   "outputs": [
    {
     "name": "stdout",
     "output_type": "stream",
     "text": [
      "Shape of the input matrix for training (genomic + clinical data):  (2003, 5892)\n",
      "Shape of the input matrix for testing (genomic + clinical data):  (501, 5892)\n"
     ]
    }
   ],
   "source": [
    "train_input=np.concatenate((train_genomic, train_clinical), axis=1)\n",
    "test_input=np.concatenate((test_genomic, test_clinical), axis=1)\n",
    "\n",
    "np.savetxt(\"inputChr22_training.txt\",train_input, delimiter=\"\\t\")\n",
    "np.savetxt(\"inputChr22_test.txt\",test_input, delimiter=\"\\t\")\n",
    "\n",
    "print(\"Shape of the input matrix for training (genomic + clinical data): \", train_input.shape)\n",
    "print(\"Shape of the input matrix for testing (genomic + clinical data): \", test_input.shape)"
   ]
  },
  {
   "cell_type": "markdown",
   "metadata": {},
   "source": [
    "## Train ML Models: Bayesian Sparse Regression and Customized Neural Network"
   ]
  },
  {
   "cell_type": "markdown",
   "metadata": {},
   "source": [
    "We have two machine learning models made available in this notebook: Bayesian Sparse Regression model and a Neural Network Model"
   ]
  },
  {
   "cell_type": "code",
   "execution_count": 14,
   "metadata": {},
   "outputs": [
    {
     "name": "stdout",
     "output_type": "stream",
     "text": [
      "Training the model\n",
      "Training is complete; outputs are saved under filenames specified by the user\n",
      "Training the model\n",
      "Training is complete; outputs are saved under filenames specified by the user\n"
     ]
    }
   ],
   "source": [
    "from bayesianRegression import *\n",
    "\n",
    "############### Train the Bayesian Sparse Regression Model with Quantitative Phenotypes ##########################\n",
    "input_filename=\"inputChr22_training.txt\"\n",
    "phenotype_filename=\"quantPhenoChr22_training.txt\"\n",
    "predType=\"quantitative\"\n",
    "modelNametoSave=\"modelQuant_BayesReg\"\n",
    "pipFile=\"pipsQuant_BayesReg.txt\" #variables associations will be saved here\n",
    "\n",
    "trainModels(input_filename, phenotype_filename, predType, modelNametoSave, pipFile)\n",
    "\n",
    "############### Train the Bayesian Sparse Regression Model with Discrete Phenotypes ##########################\n",
    "input_filename=\"inputChr22_training.txt\"\n",
    "phenotype_filename=\"discretePhenoChr22_training.txt\"\n",
    "predType=\"discrete\"\n",
    "modelNametoSave=\"modelDiscrete_BayesReg\"\n",
    "pipFile=\"pipsDiscrete_BayesReg.txt\" #variables associations will be saved here\n",
    "\n",
    "trainModels(input_filename, phenotype_filename, predType, modelNametoSave, pipFile)"
   ]
  },
  {
   "cell_type": "code",
   "execution_count": 15,
   "metadata": {},
   "outputs": [
    {
     "name": "stdout",
     "output_type": "stream",
     "text": [
      "Running predictions\n",
      "Predictions complete; outputs are saved under filenames specified by the user\n",
      "Running predictions\n",
      "Predictions complete; outputs are saved under filenames specified by the user\n"
     ]
    }
   ],
   "source": [
    "from bayesianRegression import *\n",
    "\n",
    "############### Run predictions on the test dataset with the Bayesian Sparse Regression Model for Quantitative Phenotypes ##########################\n",
    "modelName=\"modelQuant_BayesReg\"\n",
    "Xfile=\"inputChr22_test.txt\"\n",
    "predsFile= \"testChr22_quantPreds.txt\"#prediction results will be saved here\n",
    "predictQuantitative(modelName, Xfile, predsFile)\n",
    "\n",
    "############### Run predictions on the test dataset with the Bayesian Sparse Regression Model for Discrete Phenotypes ##########################\n",
    "modelName=\"modelDiscrete_BayesReg\"\n",
    "Xfile=\"inputChr22_test.txt\"\n",
    "predsFile= \"testChr22_discretePreds.txt\"#prediction results will be saved here\n",
    "probsFile= \"testChr22_discreteProbs.txt\" #disease risk probabilities will be saved here\n",
    "predictDiscrete(modelName, Xfile, predsFile, probsFile)"
   ]
  },
  {
   "cell_type": "code",
   "execution_count": 16,
   "metadata": {},
   "outputs": [
    {
     "name": "stderr",
     "output_type": "stream",
     "text": [
      "Using TensorFlow backend.\n"
     ]
    },
    {
     "name": "stdout",
     "output_type": "stream",
     "text": [
      "Train on 2003 samples, validate on 501 samples\n",
      "Epoch 1/20\n",
      "2003/2003 [==============================] - 0s 243us/step - loss: 3.7118 - mse: 3.7118 - val_loss: 1.7477 - val_mse: 1.7477\n",
      "Epoch 2/20\n",
      "2003/2003 [==============================] - 0s 157us/step - loss: 1.7239 - mse: 1.7239 - val_loss: 1.2572 - val_mse: 1.2572\n",
      "Epoch 3/20\n",
      "2003/2003 [==============================] - 0s 150us/step - loss: 1.4132 - mse: 1.4132 - val_loss: 1.0609 - val_mse: 1.0609\n",
      "Epoch 4/20\n",
      "2003/2003 [==============================] - 0s 143us/step - loss: 1.1894 - mse: 1.1894 - val_loss: 0.8655 - val_mse: 0.8655\n",
      "Epoch 5/20\n",
      "2003/2003 [==============================] - 0s 146us/step - loss: 0.8660 - mse: 0.8660 - val_loss: 0.8472 - val_mse: 0.8472\n",
      "Epoch 6/20\n",
      "2003/2003 [==============================] - 0s 148us/step - loss: 0.7874 - mse: 0.7874 - val_loss: 0.7981 - val_mse: 0.7981\n",
      "Epoch 7/20\n",
      "2003/2003 [==============================] - 0s 145us/step - loss: 0.7181 - mse: 0.7181 - val_loss: 0.8455 - val_mse: 0.8455\n",
      "Epoch 8/20\n",
      "2003/2003 [==============================] - 0s 148us/step - loss: 0.6607 - mse: 0.6607 - val_loss: 0.8010 - val_mse: 0.8010\n",
      "Epoch 9/20\n",
      "2003/2003 [==============================] - 0s 149us/step - loss: 0.5334 - mse: 0.5334 - val_loss: 0.7826 - val_mse: 0.7826\n",
      "Epoch 10/20\n",
      "2003/2003 [==============================] - 0s 145us/step - loss: 0.4436 - mse: 0.4436 - val_loss: 0.7655 - val_mse: 0.7655\n",
      "Epoch 11/20\n",
      "2003/2003 [==============================] - 0s 146us/step - loss: 0.4026 - mse: 0.4026 - val_loss: 0.8102 - val_mse: 0.8102\n",
      "Epoch 12/20\n",
      "2003/2003 [==============================] - 0s 141us/step - loss: 0.3650 - mse: 0.3650 - val_loss: 0.7571 - val_mse: 0.7571\n",
      "Epoch 13/20\n",
      "2003/2003 [==============================] - 0s 140us/step - loss: 0.3151 - mse: 0.3151 - val_loss: 0.7665 - val_mse: 0.7665\n",
      "Epoch 14/20\n",
      "2003/2003 [==============================] - 0s 142us/step - loss: 0.3067 - mse: 0.3067 - val_loss: 0.7626 - val_mse: 0.7626\n",
      "Epoch 15/20\n",
      "2003/2003 [==============================] - 0s 144us/step - loss: 0.2698 - mse: 0.2698 - val_loss: 0.7250 - val_mse: 0.7250\n",
      "Epoch 16/20\n",
      "2003/2003 [==============================] - 0s 145us/step - loss: 0.2334 - mse: 0.2334 - val_loss: 0.7393 - val_mse: 0.7393\n",
      "Epoch 17/20\n",
      "2003/2003 [==============================] - 0s 146us/step - loss: 0.2126 - mse: 0.2126 - val_loss: 0.7390 - val_mse: 0.7390\n",
      "Epoch 18/20\n",
      "2003/2003 [==============================] - 0s 145us/step - loss: 0.2135 - mse: 0.2135 - val_loss: 0.7315 - val_mse: 0.7315\n",
      "Epoch 19/20\n",
      "2003/2003 [==============================] - 0s 151us/step - loss: 0.1767 - mse: 0.1767 - val_loss: 0.7256 - val_mse: 0.7256\n",
      "Epoch 20/20\n",
      "2003/2003 [==============================] - 0s 144us/step - loss: 0.1784 - mse: 0.1784 - val_loss: 0.7188 - val_mse: 0.7188\n",
      "Test loss: 0.7188412520937815\n",
      "Test accuracy: 0.7188412547111511\n",
      "Train on 2003 samples, validate on 501 samples\n",
      "Epoch 1/20\n",
      "2003/2003 [==============================] - 0s 235us/step - loss: 1.1958 - accuracy: 0.5387 - val_loss: 0.7562 - val_accuracy: 0.5828\n",
      "Epoch 2/20\n",
      "2003/2003 [==============================] - 0s 146us/step - loss: 0.3378 - accuracy: 0.8607 - val_loss: 0.9996 - val_accuracy: 0.6287\n",
      "Epoch 3/20\n",
      "2003/2003 [==============================] - 0s 146us/step - loss: 0.1188 - accuracy: 0.9576 - val_loss: 0.9995 - val_accuracy: 0.6487\n",
      "Epoch 4/20\n",
      "2003/2003 [==============================] - 0s 147us/step - loss: 0.0553 - accuracy: 0.9800 - val_loss: 1.0944 - val_accuracy: 0.6567\n",
      "Epoch 5/20\n",
      "2003/2003 [==============================] - 0s 146us/step - loss: 0.0376 - accuracy: 0.9890 - val_loss: 1.1182 - val_accuracy: 0.6687\n",
      "Epoch 6/20\n",
      "2003/2003 [==============================] - 0s 151us/step - loss: 0.0310 - accuracy: 0.9860 - val_loss: 1.2005 - val_accuracy: 0.6687\n",
      "Epoch 7/20\n",
      "2003/2003 [==============================] - 0s 149us/step - loss: 0.0262 - accuracy: 0.9930 - val_loss: 1.4494 - val_accuracy: 0.6627\n",
      "Epoch 8/20\n",
      "2003/2003 [==============================] - 0s 148us/step - loss: 0.0128 - accuracy: 0.9955 - val_loss: 1.4599 - val_accuracy: 0.6607\n",
      "Epoch 9/20\n",
      "2003/2003 [==============================] - 0s 146us/step - loss: 0.0248 - accuracy: 0.9935 - val_loss: 1.5018 - val_accuracy: 0.6707\n",
      "Epoch 10/20\n",
      "2003/2003 [==============================] - 0s 148us/step - loss: 0.0345 - accuracy: 0.9880 - val_loss: 1.5083 - val_accuracy: 0.6727\n",
      "Epoch 11/20\n",
      "2003/2003 [==============================] - 0s 144us/step - loss: 0.0169 - accuracy: 0.9955 - val_loss: 1.6824 - val_accuracy: 0.6687\n",
      "Epoch 12/20\n",
      "2003/2003 [==============================] - 0s 147us/step - loss: 0.0168 - accuracy: 0.9935 - val_loss: 1.8958 - val_accuracy: 0.6687\n",
      "Epoch 13/20\n",
      "2003/2003 [==============================] - 0s 152us/step - loss: 0.0124 - accuracy: 0.9960 - val_loss: 1.7893 - val_accuracy: 0.6786\n",
      "Epoch 14/20\n",
      "2003/2003 [==============================] - 0s 142us/step - loss: 0.0134 - accuracy: 0.9955 - val_loss: 1.7891 - val_accuracy: 0.6527\n",
      "Epoch 15/20\n",
      "2003/2003 [==============================] - 0s 145us/step - loss: 0.0081 - accuracy: 0.9975 - val_loss: 1.8267 - val_accuracy: 0.6707\n",
      "Epoch 16/20\n",
      "2003/2003 [==============================] - 0s 145us/step - loss: 0.0090 - accuracy: 0.9970 - val_loss: 1.9817 - val_accuracy: 0.6547\n",
      "Epoch 17/20\n",
      "2003/2003 [==============================] - 0s 149us/step - loss: 0.0201 - accuracy: 0.9930 - val_loss: 2.1864 - val_accuracy: 0.6527\n",
      "Epoch 18/20\n",
      "2003/2003 [==============================] - 0s 146us/step - loss: 0.0256 - accuracy: 0.9910 - val_loss: 2.2951 - val_accuracy: 0.6467\n",
      "Epoch 19/20\n",
      "2003/2003 [==============================] - 0s 145us/step - loss: 0.0910 - accuracy: 0.9770 - val_loss: 2.5683 - val_accuracy: 0.6248\n",
      "Epoch 20/20\n",
      "2003/2003 [==============================] - 0s 149us/step - loss: 0.0741 - accuracy: 0.9745 - val_loss: 2.7862 - val_accuracy: 0.6168\n",
      "Test loss: 2.786228212291847\n",
      "Test accuracy: 0.6167664527893066\n"
     ]
    }
   ],
   "source": [
    "################ Training the neural network model ################\n",
    "from bnn import *\n",
    "\n",
    "x_train= np.genfromtxt(\"inputChr22_training.txt\", delimiter=\"\\t\")\n",
    "x_test= np.genfromtxt(\"inputChr22_test.txt\", delimiter=\"\\t\")\n",
    "y_train= np.genfromtxt(\"quantPhenoChr22_training.txt\", delimiter=\"\\t\")\n",
    "y_test= np.genfromtxt(\"quantPhenoChr22_test.txt\", delimiter=\"\\t\")\n",
    "yd_train= keras.utils.to_categorical(np.genfromtxt(\"discretePhenoChr22_training.txt\", delimiter=\"\\t\"), 2)\n",
    "yd_test= keras.utils.to_categorical(np.genfromtxt(\"discretePhenoChr22_test.txt\", delimiter=\"\\t\"), 2)\n",
    "\n",
    "NNmse_train, NNmse_test, NNpredictions=bnn_quantitative(x_train, y_train, x_test, y_test, \"NNquantitativeModel_clinical\", epochs=20)\n",
    "NNaccuracy_train, NNaccuracy_test, NNclassifications=bnn_discrete(x_train, yd_train, x_test, yd_test, \"NNdiscreteModel_clinical\", epochs=20)\n",
    "np.savetxt(\"NNpredictions_quantChr22.txt\", NNpredictions, delimiter=\"\\t\" )\n",
    "np.savetxt(\"NNclassifications_quantChr22.txt\", NNclassifications, delimiter=\"\\t\" )"
   ]
  },
  {
   "cell_type": "markdown",
   "metadata": {},
   "source": [
    "### Visualization of the Two Models' Performance"
   ]
  },
  {
   "cell_type": "code",
   "execution_count": 17,
   "metadata": {},
   "outputs": [],
   "source": [
    "###### Model Performance Visualization #############\n",
    "\n",
    "### First reading in all the data (ground-truth and predictions):\n",
    "import numpy as np \n",
    "\n",
    "# Real causal variables:\n",
    "causals=np.genfromtxt(\"causals_clinicalgeno_chr22simu.txt\", delimiter=\"\\t\")\n",
    "causals = [int(i) for i in causals]\n",
    "# Predicted variable associations (\"pip\" stands for \"posterior inclusion probabilities\"):\n",
    "pips=np.genfromtxt(\"pipsQuant_BayesReg.txt\", delimiter=\"\\t\")\n",
    "\n",
    "# Real quantitative phenotypes for test dataset:\n",
    "quantPheno=np.genfromtxt(\"quantPhenoChr22_test.txt\" ,delimiter=\"\\t\")\n",
    "# Predicted quantitative phenotypes for test dataset:\n",
    "quantPredictions=np.genfromtxt(\"testChr22_quantPreds.txt\", delimiter=\"\\t\")\n",
    "\n",
    "# Real discrete phenotypes for test dataset:\n",
    "discretePheno=np.genfromtxt(\"discretePhenoChr22_test.txt\" ,delimiter=\"\\t\")\n",
    "# Predicted discrete phenotypes for test dataset:\n",
    "DiscretePredictions=np.genfromtxt(\"testChr22_discretePreds.txt\", delimiter=\"\\t\")\n",
    "DiscreteProbs=np.genfromtxt(\"testChr22_discreteProbs.txt\", delimiter=\"\\t\")"
   ]
  },
  {
   "cell_type": "code",
   "execution_count": 18,
   "metadata": {},
   "outputs": [
    {
     "name": "stdout",
     "output_type": "stream",
     "text": [
      "Bayesian Sparse Regression Results\n"
     ]
    },
    {
     "data": {
      "image/png": "[encoded data removed]",
      "text/plain": [
       "<Figure size 432x288 with 1 Axes>"
      ]
     },
     "metadata": {
      "needs_background": "light"
     },
     "output_type": "display_data"
    },
    {
     "data": {
      "image/png": "[encoded data removed]",
      "text/plain": [
       "<Figure size 432x288 with 1 Axes>"
      ]
     },
     "metadata": {
      "needs_background": "light"
     },
     "output_type": "display_data"
    },
    {
     "data": {
      "image/png": "[encoded data removed]",
      "text/plain": [
       "<Figure size 432x288 with 2 Axes>"
      ]
     },
     "metadata": {
      "needs_background": "light"
     },
     "output_type": "display_data"
    },
    {
     "data": {
      "image/png": "[encoded data removed]",
      "text/plain": [
       "<Figure size 540x540 with 1 Axes>"
      ]
     },
     "metadata": {
      "needs_background": "light"
     },
     "output_type": "display_data"
    },
    {
     "data": {
      "image/png": "[encoded data removed]",
      "text/plain": [
       "<Figure size 432x288 with 2 Axes>"
      ]
     },
     "metadata": {
      "needs_background": "light"
     },
     "output_type": "display_data"
    },
    {
     "data": {
      "image/png": "[encoded data removed]",
      "text/plain": [
       "<Figure size 432x288 with 1 Axes>"
      ]
     },
     "metadata": {
      "needs_background": "light"
     },
     "output_type": "display_data"
    },
    {
     "name": "stdout",
     "output_type": "stream",
     "text": [
      "Bayesian Sparse Regression Mean Squared Error:  0.6447313820721914\n",
      "Bayesian Sparse Regression Classification Accuracy:  0.6686626746506986\n",
      "Bayesian Sparse Regression Classification F-1 Score:  0.6527196652719666\n",
      "Neural Network Results\n"
     ]
    },
    {
     "data": {
      "image/png": "[encoded data removed]",
      "text/plain": [
       "<Figure size 432x288 with 1 Axes>"
      ]
     },
     "metadata": {
      "needs_background": "light"
     },
     "output_type": "display_data"
    },
    {
     "data": {
      "image/png": "[encoded data removed]",
      "text/plain": [
       "<Figure size 432x288 with 2 Axes>"
      ]
     },
     "metadata": {
      "needs_background": "light"
     },
     "output_type": "display_data"
    },
    {
     "data": {
      "image/png": "[encoded data removed]",
      "text/plain": [
       "<Figure size 540x540 with 1 Axes>"
      ]
     },
     "metadata": {
      "needs_background": "light"
     },
     "output_type": "display_data"
    },
    {
     "data": {
      "image/png": "[encoded data removed]",
      "text/plain": [
       "<Figure size 432x288 with 2 Axes>"
      ]
     },
     "metadata": {
      "needs_background": "light"
     },
     "output_type": "display_data"
    },
    {
     "name": "stdout",
     "output_type": "stream",
     "text": [
      "Neural Network Mean Squared Error:  0.7188412479419268\n",
      "Neural Network Classification Accuracy:  0.6167664670658682\n",
      "Neural Network Classification F-1 Score:  0.6081632653061225\n"
     ]
    }
   ],
   "source": [
    "### Then plot with Matplotlib library\n",
    "import matplotlib.pyplot as plt\n",
    "from sklearn.metrics import mean_squared_error,accuracy_score, f1_score, confusion_matrix\n",
    "\n",
    "print(\"Bayesian Sparse Regression Results\")\n",
    "############### Visualize variable association predictions ##########################\n",
    "plt.scatter(np.arange(len(pips)), pips, label= \"noncausal variants\")\n",
    "plt.scatter(causals, pips[causals], c=\"red\", label=\"causal variants\")\n",
    "plt.xlabel(\"Variable index\")\n",
    "plt.ylabel(\"Probability of Association\")\n",
    "plt.legend()\n",
    "plt.title(\"Inferred Probability of Association for Each Variant\")\n",
    "plt.show()\n",
    "\n",
    "####### Quantitative Scatterplot #################\n",
    "plt.scatter(np.arange(len(quantPheno)), quantPheno, c=\"black\", label=\"Ground-truth\")\n",
    "plt.scatter(np.arange(len(quantPredictions)), quantPredictions, c=\"red\", label=\"Predicted\")\n",
    "plt.xlabel(\"Individuals\")\n",
    "plt.ylabel(\"Predicted Phenotype (quantitative)\")\n",
    "plt.title(\"Scatterplot of quantative phenotypes and predictions\")\n",
    "plt.show()\n",
    "\n",
    "############ Histogram of Quantitative Predictions ##############\n",
    "fig, axs = plt.subplots(1, 2, sharey=True, tight_layout=True)\n",
    "\n",
    "# We can set the number of bins with the `bins` kwarg\n",
    "axs[0].hist(quantPredictions, bins=10)\n",
    "axs[1].hist(quantPheno, bins=10)\n",
    "axs[0].title.set_text('BSR Predicted Quantitative Phenotypes')\n",
    "axs[1].title.set_text('Real Quantitative Phenotypes')\n",
    "plt.show()\n",
    "\n",
    "############ Confusion Matrix ##############\n",
    "conf_matrix=confusion_matrix(discretePheno, DiscretePredictions)\n",
    "fig, ax = plt.subplots(figsize=(7.5, 7.5))\n",
    "ax.matshow(conf_matrix, cmap=plt.cm.Blues, alpha=0.3)\n",
    "for i in range(conf_matrix.shape[0]):\n",
    "    for j in range(conf_matrix.shape[1]):\n",
    "        ax.text(x=j, y=i,s=conf_matrix[i, j], va='center', ha='center', size='xx-large')\n",
    " \n",
    "plt.xlabel('Predictions', fontsize=18)\n",
    "plt.ylabel('Actuals', fontsize=18)\n",
    "plt.title('Confusion Matrix', fontsize=18)\n",
    "plt.show()\n",
    "\n",
    "############ Histogram of Discrete Predictions ##############\n",
    "fig, axs = plt.subplots(1, 2, sharey=True, tight_layout=True)\n",
    "\n",
    "# We can set the number of bins with the `bins` kwarg\n",
    "axs[0].hist(DiscretePredictions, bins=10)\n",
    "axs[1].hist(discretePheno, bins=10)\n",
    "axs[0].title.set_text('BSR Predicted Discrete Phenotypes')\n",
    "axs[1].title.set_text('Real Discrete Phenotypes')\n",
    "plt.show()\n",
    "\n",
    "############ Histogram of Disease Risk ##############\n",
    "# We can set the number of bins with the `bins` kwarg\n",
    "plt.hist(DiscreteProbs, bins=10)\n",
    "plt.title('Predicted Disease Risks (Probability of discrete phenotype being 1)')\n",
    "plt.show()     \n",
    "\n",
    "#For regression task:\n",
    "print(\"Bayesian Sparse Regression Mean Squared Error: \", mean_squared_error(quantPheno, quantPredictions))\n",
    "#For classification task:\n",
    "print(\"Bayesian Sparse Regression Classification Accuracy: \", accuracy_score(discretePheno, DiscretePredictions))\n",
    "print(\"Bayesian Sparse Regression Classification F-1 Score: \", f1_score(discretePheno, DiscretePredictions))\n",
    "#Note: These numbers are a little bit better when averaged over 20-30 simulations, this instance might be picking correlated SNPs for causals\n",
    "\n",
    "print(\"Neural Network Results\")\n",
    "################ Neural Network ############################\n",
    "NNpredictions=np.genfromtxt(\"NNpredictions_quantChr22.txt\", delimiter=\"\\t\" )\n",
    "NNclassifications= np.argmax(np.genfromtxt(\"NNclassifications_quantChr22.txt\", delimiter=\"\\t\" ), axis=1)\n",
    "\n",
    "####### Quantitative Scatterplot #################\n",
    "plt.scatter(np.arange(len(quantPheno)), quantPheno, c=\"black\", label=\"Ground-truth\")\n",
    "plt.scatter(np.arange(len(NNpredictions)), quantPredictions, c=\"red\", label=\"Predicted\")\n",
    "plt.xlabel(\"Individuals\")\n",
    "plt.ylabel(\"Predicted Phenotype (quantitative)\")\n",
    "plt.title(\"Scatterplot of quantative phenotypes and predictions\")\n",
    "plt.show()\n",
    "\n",
    "# ############ Histogram ##############\n",
    "fig, axs = plt.subplots(1, 2, sharey=True, tight_layout=True)\n",
    "\n",
    "# We can set the number of bins with the `bins` kwarg\n",
    "axs[0].hist(NNpredictions, bins=10)\n",
    "axs[1].hist(quantPheno, bins=10)\n",
    "axs[0].title.set_text('NN Predicted Quantitative Phenotypes')\n",
    "axs[1].title.set_text('Real Quantitative Phenotypes')\n",
    "plt.show()\n",
    "\n",
    "############ Confusion Matrix ##############\n",
    "conf_matrix=confusion_matrix(discretePheno, NNclassifications)\n",
    "fig, ax = plt.subplots(figsize=(7.5, 7.5))\n",
    "ax.matshow(conf_matrix, cmap=plt.cm.Blues, alpha=0.3)\n",
    "for i in range(conf_matrix.shape[0]):\n",
    "    for j in range(conf_matrix.shape[1]):\n",
    "        ax.text(x=j, y=i,s=conf_matrix[i, j], va='center', ha='center', size='xx-large')\n",
    " \n",
    "plt.xlabel('Predictions', fontsize=18)\n",
    "plt.ylabel('Actuals', fontsize=18)\n",
    "plt.title('Confusion Matrix', fontsize=18)\n",
    "plt.show()\n",
    "\n",
    "############ Histogram of Discrete Predictions ##############\n",
    "fig, axs = plt.subplots(1, 2, sharey=True, tight_layout=True)\n",
    "\n",
    "# We can set the number of bins with the `bins` kwarg\n",
    "axs[0].hist(NNclassifications, bins=10)\n",
    "axs[1].hist(discretePheno, bins=10)\n",
    "axs[0].title.set_text('NN Predicted Discrete Phenotypes')\n",
    "axs[1].title.set_text('Real Discrete Phenotypes')\n",
    "plt.show()\n",
    "\n",
    "#For regression task:\n",
    "print(\"Neural Network Mean Squared Error: \", mean_squared_error(quantPheno, NNpredictions))\n",
    "#For classification task:\n",
    "print(\"Neural Network Classification Accuracy: \", accuracy_score(discretePheno, NNclassifications))\n",
    "print(\"Neural Network Classification F-1 Score: \", f1_score(discretePheno, NNclassifications))\n",
    "#Note: These numbers are a little bit better when averaged over 20-30 simulations, this instance might be picking correlated SNPs for causals\n"
   ]
  },
  {
   "cell_type": "markdown",
   "metadata": {},
   "source": [
    "### Notices\n",
    "\n",
    "THIS NOTEBOOK HAS JUST A SAMPLE CODES. MICROSOFT DOES NOT CLAIM ANY OWNERSHIP ON THESE CODES AND LIBRARIES.\n",
    "MICROSOFT PROVIDES THIS NOTEBOOK AND SAMPLE USE OF ML LIBRARIES ON AN “AS IS” BASIS. DATA OR ANY MATERIAL ON THIS NOTEBOOK. MICROSOFT MAKES NO WARRANTIES, EXPRESS OR IMPLIED, GUARANTEES OR CONDITIONS WITH RESPECT TO YOUR USE OF THIS NOTEBOOK. TO THE EXTENT PERMITTED UNDER YOUR LOCAL LAW, MICROSOFT DISCLAIMS ALL LIABILITY FOR ANY DAMAGES OR LOSSES, INCLUDING DIRECT, CONSEQUENTIAL, SPECIAL, INDIRECT, INCIDENTAL OR PUNITIVE, RESULTING FROM YOUR USE OF THIS NOTEBOOK.\n",
    "\n",
    "Credits: Pinar Demetci-Research intern\n",
    "\n",
    "##### -END OF NOTEBOOK - "
   ]
  }
 ],
 "metadata": {
  "kernelspec": {
   "display_name": "Python 3 (ipykernel)",
   "language": "python",
   "name": "python3"
  },
  "language_info": {
   "codemirror_mode": {
    "name": "ipython",
    "version": 3
   },
   "file_extension": ".py",
   "mimetype": "text/x-python",
   "name": "python",
   "nbconvert_exporter": "python",
   "pygments_lexer": "ipython3",
   "version": "3.8.15"
  }
 },
 "nbformat": 4,
 "nbformat_minor": 4
}
