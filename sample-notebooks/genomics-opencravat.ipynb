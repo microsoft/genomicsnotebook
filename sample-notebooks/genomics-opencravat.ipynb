{
 "cells": [
  {
   "cell_type": "markdown",
   "metadata": {},
   "source": [
    "# Download Datasets from Azure Genomics Data Lake with Jupyter Notebooks-OpenCRAVAT"
   ]
  },
  {
   "cell_type": "markdown",
   "metadata": {},
   "source": [
    "Jupyter notebooks are a great tool for data scientists who is working on Genomics data analysis. We will demonstrate how to donwload specific OpenCRAVAT dataset/database from Azure Open Datasets. \n",
    "\n",
    "**Here is the coverage of this notebook:**\n",
    "\n",
    "1. Download specific database from OpenCRAVAT datasets\n",
    "2. Deploy Data Science VM on Azure for OpenCRAVAT\n",
    "\n",
    "\n",
    "**Dependencies:**\n",
    "\n",
    "This notebook requires the following libraries:\n",
    "\n",
    "- Azure storage `pip install azure-storage-blob==2.1.0`. Please visit [this page](https://github.com/Azure/azure-storage-python/wiki) for frequently encountered problem for this SDK.\n",
    "\n",
    "**Important information: This notebook is using Python 3.6 kernel**\n"
   ]
  },
  {
   "cell_type": "markdown",
   "metadata": {},
   "source": [
    "# 1. Getting the OpenCRAVAT data from Azure Open Datasets\n",
    "\n",
    "Several public genomics data has been uploaded as an Azure Open Dataset [here](https://azure.microsoft.com/services/open-datasets/catalog/). We create a blob service linked to this open datasets. You can find examples of data calling procedure from Azure Open Dataset for `OpenCRAVAT` datasets in below:"
   ]
  },
  {
   "cell_type": "markdown",
   "metadata": {},
   "source": [
    "**1.a.Install Azure Blob Storage SDK**"
   ]
  },
  {
   "cell_type": "code",
   "execution_count": null,
   "metadata": {},
   "outputs": [],
   "source": [
    "pip install azure-storage-blob==2.1.0"
   ]
  },
  {
   "cell_type": "markdown",
   "metadata": {},
   "source": [
    "**1.b.Download the targeted file**"
   ]
  },
  {
   "cell_type": "code",
   "execution_count": null,
   "metadata": {},
   "outputs": [],
   "source": [
    "import os\n",
    "import uuid\n",
    "import sys\n",
    "from azure.storage.blob import BlockBlobService, PublicAccess\n",
    "\n",
    "blob_service_client = BlockBlobService(account_name='datasetopencravat', sas_token='sv=2020-04-08&st=2021-03-11T23%3A50%3A01Z&se=2025-07-26T22%3A50%3A00Z&sr=c&sp=rl&sig=J9J9wnJOXsmEy7TFMq9wjcxjXDE%2B7KhGpCUL4elsC14%3D')     \n",
    "blob_service_client.get_blob_to_path('dataset/modules/gnomad/2.2.0', 'gnomad.yml', './gnomad.yml')"
   ]
  },
  {
   "cell_type": "markdown",
   "metadata": {},
   "source": [
    "# 2. Deploy Data Science VM on Microsoft Azure for OpenCRAVAT"
   ]
  },
  {
   "cell_type": "markdown",
   "metadata": {},
   "source": [
    "Virtual Machine (VM) image in this page deploys a **Custom Data Science Virtual Machine for Genomics Analysis- Ubuntu 20.04**.\n",
    "\n",
    "If you are new to Azure virtual machines, see:\n",
    "- [Azure Virtual Machines](https://azure.microsoft.com/services/virtual-machines/)\n",
    "- [Azure Data Science VM](https://docs.microsoft.com/en-us/azure/machine-learning/data-science-virtual-machine/)\n",
    "- [Azure Windows Virtual Machines documentation](https://docs.microsoft.com/azure/virtual-machines/windows/)\n",
    "\n",
    "\n",
    "This VM image allows you to deploy a recommended **Data Science Virtual Machine for using OpenCRAVAT**.\n",
    "\n",
    "BEFORE USE THIS VM Image- PLEASE READ: [Security recommendations for virtual machines in Azure](https://learn.microsoft.com/en-us/azure/virtual-machines/security-recommendations).\n",
    "\n",
    "ATTENTION: THIS VM Image JUST PROVIDES A SAMPLE SCHEMA FOR EDUCATIONAL PURPOSES. MICROSOFT DOES NOT CLAIM ANY OWNERSHIP ON THESE CODES AND LIBRARIES. MICROSOFT PROVIDES THIS VM TEMPLATE AND SAMPLE USE OF LIBRARIES ON AN “AS IS” BASIS.MICROSOFT MAKES NO WARRANTIES, EXPRESS OR IMPLIED, GUARANTEES OR CONDITIONS WITH RESPECT TO YOUR USE OF THIS VM TEMPLATE. TO THE EXTENT PERMITTED UNDER YOUR LOCAL LAW, MICROSOFT DISCLAIMS ALL LIABILITY FOR ANY DAMAGES OR LOSSES, INCLUDING DIRECT, CONSEQUENTIAL, SPECIAL, INDIRECT, INCIDENTAL OR PUNITIVE, RESULTING FROM YOUR USE OF THIS VM TEMPLATE.\n",
    "\n",
    "[Guideline: Deploy custom Genomics Data Science VM](https://datasettoaexample.blob.core.windows.net/publicsample/deploycommunitygenomics.mp4)\n"
   ]
  },
  {
   "cell_type": "markdown",
   "metadata": {},
   "source": [
    "# References\n",
    "\n",
    "1.[OpenCRAVAT offical webpage](https://opencravat.org/)\n",
    "\n"
   ]
  }
 ],
 "metadata": {
  "jupytext": {
   "formats": "ipynb,md"
  },
  "kernelspec": {
   "display_name": "Python 3 (ipykernel)",
   "language": "python",
   "name": "python3"
  },
  "language_info": {
   "codemirror_mode": {
    "name": "ipython",
    "version": 3
   },
   "file_extension": ".py",
   "mimetype": "text/x-python",
   "name": "python",
   "nbconvert_exporter": "python",
   "pygments_lexer": "ipython3",
   "version": "3.8.15"
  }
 },
 "nbformat": 4,
 "nbformat_minor": 4
}
