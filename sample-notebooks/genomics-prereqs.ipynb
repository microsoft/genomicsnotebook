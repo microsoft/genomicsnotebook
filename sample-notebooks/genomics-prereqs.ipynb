{
  "cells": [
    {
      "attachments": {},
      "cell_type": "markdown",
      "metadata": {},
      "source": [
        "# **Installing Cromwell on Azure Prerequisites**\n",
        "This guide goes through the steps to deploy the prerequisites listed on the Cromwell on Azure page [here](genomics.ipynb).\n",
        "\n",
        "\n",
        "**Here is the coverage of this notebook:**\n",
        "1. Install Azure CLI \n",
        "2. Download & Extract Azure AzCopy \n",
        "3. Download Picard Jar file \n",
        "4. Test Picard \n",
        "5. Install Helm \n",
        "6. Download extract GATK \n",
        "7. Download Cromwell \n",
        "8. Deploy Cromwell \n",
        "\n",
        "\n",
        "---\n",
        "\n",
        "### **1. Install Azure CLI**\n",
        "\n",
        "Reference link:  https://learn.microsoft.com/en-us/cli/azure/install-azure-cli-linux?pivots=apt\n"
      ]
    },
    {
      "cell_type": "code",
      "execution_count": null,
      "metadata": {},
      "outputs": [],
      "source": [
        "%%bash\n",
        "curl -sL https://aka.ms/InstallAzureCLIDeb | sudo bash"
      ]
    },
    {
      "attachments": {},
      "cell_type": "markdown",
      "metadata": {},
      "source": [
        "### **2. Download & extract Azure AzCopy**\n",
        "\n",
        "Reference link:  https://learn.microsoft.com/en-us/azure/storage/common/storage-use-azcopy-v10"
      ]
    },
    {
      "cell_type": "code",
      "execution_count": null,
      "metadata": {},
      "outputs": [],
      "source": [
        "%%bash\n",
        "wget https://aka.ms/downloadazcopy-v10-linux\n",
        "\n",
        "tar -xvzf downloadazcopy-v10-linux"
      ]
    },
    {
      "attachments": {},
      "cell_type": "markdown",
      "metadata": {},
      "source": [
        "### **3. Download Picard Jar file**\n",
        "\n",
        "Reference Link:  https://broadinstitute.github.io/picard/\n",
        "\n",
        "This one is currently set to use Release 2.27.5."
      ]
    },
    {
      "cell_type": "code",
      "execution_count": null,
      "metadata": {},
      "outputs": [],
      "source": [
        "%%bash\n",
        "wget https://github.com/broadinstitute/picard/releases/download/2.27.5/picard.jar"
      ]
    },
    {
      "attachments": {},
      "cell_type": "markdown",
      "metadata": {},
      "source": [
        "### **4. Test Picard**\n",
        "\n",
        "Use these steps to verify the Picard.jar file is compatible with the Java version on the system."
      ]
    },
    {
      "cell_type": "code",
      "execution_count": null,
      "metadata": {},
      "outputs": [],
      "source": [
        "%%bash\n",
        "java -jar picard.jar -h"
      ]
    },
    {
      "attachments": {},
      "cell_type": "markdown",
      "metadata": {},
      "source": [
        "### **5. Install Helm**\n",
        "\n",
        "Reference Link:  https://helm.sh/docs/intro/install/"
      ]
    },
    {
      "cell_type": "code",
      "execution_count": null,
      "metadata": {},
      "outputs": [],
      "source": [
        "%%bash\n",
        "wget https://get.helm.sh/helm-v3.12.1-linux-amd64.tar.gz\n",
        "\n",
        "tar -xvzf helm-v3.12.1-linux-amd64.tar.gz\n"
      ]
    },
    {
      "attachments": {},
      "cell_type": "markdown",
      "metadata": {
        "nteract": {
          "transient": {
            "deleting": false
          }
        }
      },
      "source": [
        "Next Copy the Helm File to /usr/local/bin/helm per the Helm install instructions.\n",
        "\n",
        "Reference Link:  https://helm.sh/docs/intro/install/"
      ]
    },
    {
      "cell_type": "code",
      "execution_count": 37,
      "metadata": {
        "jupyter": {
          "outputs_hidden": false,
          "source_hidden": false
        },
        "nteract": {
          "transient": {
            "deleting": false
          }
        }
      },
      "outputs": [],
      "source": [
        "%%bash\n",
        "sudo cp linux-amd64/helm /usr/local/bin/helm"
      ]
    },
    {
      "attachments": {},
      "cell_type": "markdown",
      "metadata": {},
      "source": [
        "### **6. Download extract GATK**\n",
        "\n",
        "Reference Link:  https://github.com/broadinstitute/gatk/releases\n",
        "\n",
        "**Download the package:**"
      ]
    },
    {
      "cell_type": "code",
      "execution_count": null,
      "metadata": {},
      "outputs": [],
      "source": [
        "%%bash\n",
        "wget https://github.com/broadinstitute/gatk/archive/refs/tags/4.4.0.0.tar.gz"
      ]
    },
    {
      "attachments": {},
      "cell_type": "markdown",
      "metadata": {},
      "source": [
        "**Extract the package:**"
      ]
    },
    {
      "cell_type": "code",
      "execution_count": null,
      "metadata": {
        "gather": {
          "logged": 1687380091970
        }
      },
      "outputs": [],
      "source": [
        "%%bash\n",
        "tar -xvzf 4.4.0.0.tar.gz"
      ]
    },
    {
      "attachments": {},
      "cell_type": "markdown",
      "metadata": {},
      "source": [
        "### **7. Download Cromwell package**\n",
        "\n",
        "Reference Link:  https://github.com/microsoft/CromwellOnAzure/releases\n",
        "\n",
        "Download the package:"
      ]
    },
    {
      "cell_type": "code",
      "execution_count": null,
      "metadata": {},
      "outputs": [],
      "source": [
        "%%bash\n",
        "wget https://github.com/microsoft/CromwellOnAzure/releases/download/4.3.0/deploy-cromwell-on-azure-linux.tar.gz\n",
        "\n",
        "tar -xvzf deploy-cromwell-on-azure-linux.tar.gz"
      ]
    },
    {
      "attachments": {},
      "cell_type": "markdown",
      "metadata": {},
      "source": [
        "### **8. Deploy Cromwell Package**\n",
        "\n",
        "First Login, this will display a URL and login code.  \n",
        "Click the URL and enter the code."
      ]
    },
    {
      "cell_type": "code",
      "execution_count": null,
      "metadata": {},
      "outputs": [],
      "source": [
        "! az login"
      ]
    },
    {
      "attachments": {},
      "cell_type": "markdown",
      "metadata": {},
      "source": [
        "Next , run the deployment script.\n",
        "\n",
        "This takes a while to run, deploys all the resources in the named prefix resource group in the script parameters.\n",
        "\n",
        "* ENTERYOURSUBSCRIPTIONGUID = You can get the subscription ID from the base resource page.  Copy it and use it here.\n",
        "* ENTERYOURPREFIX = Resource group prefix\n",
        "* ENTERYOURREGION = Not available in all regions."
      ]
    },
    {
      "cell_type": "code",
      "execution_count": null,
      "metadata": {
        "gather": {
          "logged": 1687385591817
        }
      },
      "outputs": [],
      "source": [
        "# example:\n",
        "# ! ./deploy-cromwell-on-azure-linux --SubscriptionId 2a20e080-4248-468d-a088-5b157921afbf --RegionName eastus2 --MainIdentifierPrefix coaprefix\n",
        "\n",
        "! ./deploy-cromwell-on-azure-linux --SubscriptionId <ENTERYOURSUBSCRIPTIONGUID> --RegionName <ENTERYOURREGION> --MainIdentifierPrefix <ENTERYOURPREFIX>\n"
      ]
    }
  ],
  "metadata": {
    "kernel_info": {
      "name": "python310-sdkv2"
    },
    "kernelspec": {
      "display_name": "Python 3.10 - SDK v2",
      "language": "python",
      "name": "python310-sdkv2"
    },
    "language_info": {
      "codemirror_mode": {
        "name": "ipython",
        "version": 3
      },
      "file_extension": ".py",
      "mimetype": "text/x-python",
      "name": "python",
      "nbconvert_exporter": "python",
      "pygments_lexer": "ipython3",
      "version": "3.10.11"
    },
    "microsoft": {
      "ms_spell_check": {
        "ms_spell_check_language": "en"
      }
    },
    "nteract": {
      "version": "nteract-front-end@1.0.0"
    },
    "orig_nbformat": 4
  },
  "nbformat": 4,
  "nbformat_minor": 2
}
